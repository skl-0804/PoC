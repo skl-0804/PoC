{
  "cells": [
    {
      "cell_type": "code",
      "source": [
        "pip install autogen-agentchat~=0.2 autogen apify-client"
      ],
      "metadata": {
        "id": "RZFw9_JQjNzN",
        "outputId": "cd4b1ca4-1e4c-48d4-ea2c-641fcdcf21d5",
        "colab": {
          "base_uri": "https://localhost:8080/"
        },
        "collapsed": true
      },
      "execution_count": null,
      "outputs": [
        {
          "output_type": "stream",
          "name": "stdout",
          "text": [
            "Requirement already satisfied: autogen-agentchat~=0.2 in /usr/local/lib/python3.11/dist-packages (0.4.8)\n",
            "Requirement already satisfied: autogen in /usr/local/lib/python3.11/dist-packages (0.7.6)\n",
            "Requirement already satisfied: apify-client in /usr/local/lib/python3.11/dist-packages (1.9.2)\n",
            "Requirement already satisfied: autogen-core==0.4.8 in /usr/local/lib/python3.11/dist-packages (from autogen-agentchat~=0.2) (0.4.8)\n",
            "Requirement already satisfied: jsonref~=1.1.0 in /usr/local/lib/python3.11/dist-packages (from autogen-core==0.4.8->autogen-agentchat~=0.2) (1.1.0)\n",
            "Requirement already satisfied: opentelemetry-api>=1.27.0 in /usr/local/lib/python3.11/dist-packages (from autogen-core==0.4.8->autogen-agentchat~=0.2) (1.30.0)\n",
            "Requirement already satisfied: pillow>=11.0.0 in /usr/local/lib/python3.11/dist-packages (from autogen-core==0.4.8->autogen-agentchat~=0.2) (11.1.0)\n",
            "Requirement already satisfied: protobuf~=5.29.3 in /usr/local/lib/python3.11/dist-packages (from autogen-core==0.4.8->autogen-agentchat~=0.2) (5.29.3)\n",
            "Requirement already satisfied: pydantic<3.0.0,>=2.10.0 in /usr/local/lib/python3.11/dist-packages (from autogen-core==0.4.8->autogen-agentchat~=0.2) (2.10.6)\n",
            "Requirement already satisfied: typing-extensions>=4.0.0 in /usr/local/lib/python3.11/dist-packages (from autogen-core==0.4.8->autogen-agentchat~=0.2) (4.12.2)\n",
            "Requirement already satisfied: pyautogen==0.7.6 in /usr/local/lib/python3.11/dist-packages (from autogen) (0.7.6)\n",
            "Requirement already satisfied: asyncer==0.0.8 in /usr/local/lib/python3.11/dist-packages (from pyautogen==0.7.6->autogen) (0.0.8)\n",
            "Requirement already satisfied: diskcache in /usr/local/lib/python3.11/dist-packages (from pyautogen==0.7.6->autogen) (5.6.3)\n",
            "Requirement already satisfied: docker in /usr/local/lib/python3.11/dist-packages (from pyautogen==0.7.6->autogen) (7.1.0)\n",
            "Requirement already satisfied: fast-depends<3,>=2.4.12 in /usr/local/lib/python3.11/dist-packages (from pyautogen==0.7.6->autogen) (2.4.12)\n",
            "Requirement already satisfied: httpx<1,>=0.28.1 in /usr/local/lib/python3.11/dist-packages (from pyautogen==0.7.6->autogen) (0.28.1)\n",
            "Requirement already satisfied: packaging in /usr/local/lib/python3.11/dist-packages (from pyautogen==0.7.6->autogen) (24.2)\n",
            "Requirement already satisfied: python-dotenv in /usr/local/lib/python3.11/dist-packages (from pyautogen==0.7.6->autogen) (1.0.1)\n",
            "Requirement already satisfied: termcolor in /usr/local/lib/python3.11/dist-packages (from pyautogen==0.7.6->autogen) (2.5.0)\n",
            "Requirement already satisfied: tiktoken in /usr/local/lib/python3.11/dist-packages (from pyautogen==0.7.6->autogen) (0.9.0)\n",
            "Requirement already satisfied: anyio<5.0,>=3.4.0 in /usr/local/lib/python3.11/dist-packages (from asyncer==0.0.8->pyautogen==0.7.6->autogen) (3.7.1)\n",
            "Requirement already satisfied: apify-shared>=1.1.2 in /usr/local/lib/python3.11/dist-packages (from apify-client) (1.3.0)\n",
            "Requirement already satisfied: more_itertools>=10.0.0 in /usr/local/lib/python3.11/dist-packages (from apify-client) (10.6.0)\n",
            "Requirement already satisfied: certifi in /usr/local/lib/python3.11/dist-packages (from httpx<1,>=0.28.1->pyautogen==0.7.6->autogen) (2025.1.31)\n",
            "Requirement already satisfied: httpcore==1.* in /usr/local/lib/python3.11/dist-packages (from httpx<1,>=0.28.1->pyautogen==0.7.6->autogen) (1.0.7)\n",
            "Requirement already satisfied: idna in /usr/local/lib/python3.11/dist-packages (from httpx<1,>=0.28.1->pyautogen==0.7.6->autogen) (3.10)\n",
            "Requirement already satisfied: h11<0.15,>=0.13 in /usr/local/lib/python3.11/dist-packages (from httpcore==1.*->httpx<1,>=0.28.1->pyautogen==0.7.6->autogen) (0.14.0)\n",
            "Requirement already satisfied: sniffio>=1.1 in /usr/local/lib/python3.11/dist-packages (from anyio<5.0,>=3.4.0->asyncer==0.0.8->pyautogen==0.7.6->autogen) (1.3.1)\n",
            "Requirement already satisfied: deprecated>=1.2.6 in /usr/local/lib/python3.11/dist-packages (from opentelemetry-api>=1.27.0->autogen-core==0.4.8->autogen-agentchat~=0.2) (1.2.18)\n",
            "Requirement already satisfied: importlib-metadata<=8.5.0,>=6.0 in /usr/local/lib/python3.11/dist-packages (from opentelemetry-api>=1.27.0->autogen-core==0.4.8->autogen-agentchat~=0.2) (8.5.0)\n",
            "Requirement already satisfied: annotated-types>=0.6.0 in /usr/local/lib/python3.11/dist-packages (from pydantic<3.0.0,>=2.10.0->autogen-core==0.4.8->autogen-agentchat~=0.2) (0.7.0)\n",
            "Requirement already satisfied: pydantic-core==2.27.2 in /usr/local/lib/python3.11/dist-packages (from pydantic<3.0.0,>=2.10.0->autogen-core==0.4.8->autogen-agentchat~=0.2) (2.27.2)\n",
            "Requirement already satisfied: requests>=2.26.0 in /usr/local/lib/python3.11/dist-packages (from docker->pyautogen==0.7.6->autogen) (2.32.3)\n",
            "Requirement already satisfied: urllib3>=1.26.0 in /usr/local/lib/python3.11/dist-packages (from docker->pyautogen==0.7.6->autogen) (2.3.0)\n",
            "Requirement already satisfied: regex>=2022.1.18 in /usr/local/lib/python3.11/dist-packages (from tiktoken->pyautogen==0.7.6->autogen) (2024.11.6)\n",
            "Requirement already satisfied: wrapt<2,>=1.10 in /usr/local/lib/python3.11/dist-packages (from deprecated>=1.2.6->opentelemetry-api>=1.27.0->autogen-core==0.4.8->autogen-agentchat~=0.2) (1.17.2)\n",
            "Requirement already satisfied: zipp>=3.20 in /usr/local/lib/python3.11/dist-packages (from importlib-metadata<=8.5.0,>=6.0->opentelemetry-api>=1.27.0->autogen-core==0.4.8->autogen-agentchat~=0.2) (3.21.0)\n",
            "Requirement already satisfied: charset-normalizer<4,>=2 in /usr/local/lib/python3.11/dist-packages (from requests>=2.26.0->docker->pyautogen==0.7.6->autogen) (3.4.1)\n"
          ]
        }
      ]
    },
    {
      "cell_type": "code",
      "source": [
        "pip install pyautogen spider-client"
      ],
      "metadata": {
        "id": "HOmVNDZKqpYT",
        "outputId": "05704393-f947-44b3-f576-7bfbe1381e07",
        "colab": {
          "base_uri": "https://localhost:8080/"
        },
        "collapsed": true
      },
      "execution_count": null,
      "outputs": [
        {
          "output_type": "stream",
          "name": "stdout",
          "text": [
            "Requirement already satisfied: pyautogen in /usr/local/lib/python3.11/dist-packages (0.7.6)\n",
            "Collecting spider-client\n",
            "  Downloading spider-client-0.1.26.tar.gz (15 kB)\n",
            "  Preparing metadata (setup.py) ... \u001b[?25l\u001b[?25hdone\n",
            "Requirement already satisfied: asyncer==0.0.8 in /usr/local/lib/python3.11/dist-packages (from pyautogen) (0.0.8)\n",
            "Requirement already satisfied: diskcache in /usr/local/lib/python3.11/dist-packages (from pyautogen) (5.6.3)\n",
            "Requirement already satisfied: docker in /usr/local/lib/python3.11/dist-packages (from pyautogen) (7.1.0)\n",
            "Requirement already satisfied: fast-depends<3,>=2.4.12 in /usr/local/lib/python3.11/dist-packages (from pyautogen) (2.4.12)\n",
            "Requirement already satisfied: httpx<1,>=0.28.1 in /usr/local/lib/python3.11/dist-packages (from pyautogen) (0.28.1)\n",
            "Requirement already satisfied: packaging in /usr/local/lib/python3.11/dist-packages (from pyautogen) (24.2)\n",
            "Requirement already satisfied: pydantic<3,>=2.6.1 in /usr/local/lib/python3.11/dist-packages (from pyautogen) (2.10.6)\n",
            "Requirement already satisfied: python-dotenv in /usr/local/lib/python3.11/dist-packages (from pyautogen) (1.0.1)\n",
            "Requirement already satisfied: termcolor in /usr/local/lib/python3.11/dist-packages (from pyautogen) (2.5.0)\n",
            "Requirement already satisfied: tiktoken in /usr/local/lib/python3.11/dist-packages (from pyautogen) (0.9.0)\n",
            "Requirement already satisfied: anyio<5.0,>=3.4.0 in /usr/local/lib/python3.11/dist-packages (from asyncer==0.0.8->pyautogen) (3.7.1)\n",
            "Requirement already satisfied: requests in /usr/local/lib/python3.11/dist-packages (from spider-client) (2.32.3)\n",
            "Collecting ijson (from spider-client)\n",
            "  Downloading ijson-3.3.0-cp311-cp311-manylinux_2_17_x86_64.manylinux2014_x86_64.whl.metadata (21 kB)\n",
            "Requirement already satisfied: tenacity in /usr/local/lib/python3.11/dist-packages (from spider-client) (9.0.0)\n",
            "Requirement already satisfied: aiohttp in /usr/local/lib/python3.11/dist-packages (from spider-client) (3.11.13)\n",
            "Requirement already satisfied: certifi in /usr/local/lib/python3.11/dist-packages (from httpx<1,>=0.28.1->pyautogen) (2025.1.31)\n",
            "Requirement already satisfied: httpcore==1.* in /usr/local/lib/python3.11/dist-packages (from httpx<1,>=0.28.1->pyautogen) (1.0.7)\n",
            "Requirement already satisfied: idna in /usr/local/lib/python3.11/dist-packages (from httpx<1,>=0.28.1->pyautogen) (3.10)\n",
            "Requirement already satisfied: h11<0.15,>=0.13 in /usr/local/lib/python3.11/dist-packages (from httpcore==1.*->httpx<1,>=0.28.1->pyautogen) (0.14.0)\n",
            "Requirement already satisfied: annotated-types>=0.6.0 in /usr/local/lib/python3.11/dist-packages (from pydantic<3,>=2.6.1->pyautogen) (0.7.0)\n",
            "Requirement already satisfied: pydantic-core==2.27.2 in /usr/local/lib/python3.11/dist-packages (from pydantic<3,>=2.6.1->pyautogen) (2.27.2)\n",
            "Requirement already satisfied: typing-extensions>=4.12.2 in /usr/local/lib/python3.11/dist-packages (from pydantic<3,>=2.6.1->pyautogen) (4.12.2)\n",
            "Requirement already satisfied: aiohappyeyeballs>=2.3.0 in /usr/local/lib/python3.11/dist-packages (from aiohttp->spider-client) (2.4.6)\n",
            "Requirement already satisfied: aiosignal>=1.1.2 in /usr/local/lib/python3.11/dist-packages (from aiohttp->spider-client) (1.3.2)\n",
            "Requirement already satisfied: attrs>=17.3.0 in /usr/local/lib/python3.11/dist-packages (from aiohttp->spider-client) (25.1.0)\n",
            "Requirement already satisfied: frozenlist>=1.1.1 in /usr/local/lib/python3.11/dist-packages (from aiohttp->spider-client) (1.5.0)\n",
            "Requirement already satisfied: multidict<7.0,>=4.5 in /usr/local/lib/python3.11/dist-packages (from aiohttp->spider-client) (6.1.0)\n",
            "Requirement already satisfied: propcache>=0.2.0 in /usr/local/lib/python3.11/dist-packages (from aiohttp->spider-client) (0.3.0)\n",
            "Requirement already satisfied: yarl<2.0,>=1.17.0 in /usr/local/lib/python3.11/dist-packages (from aiohttp->spider-client) (1.18.3)\n",
            "Requirement already satisfied: urllib3>=1.26.0 in /usr/local/lib/python3.11/dist-packages (from docker->pyautogen) (2.3.0)\n",
            "Requirement already satisfied: charset-normalizer<4,>=2 in /usr/local/lib/python3.11/dist-packages (from requests->spider-client) (3.4.1)\n",
            "Requirement already satisfied: regex>=2022.1.18 in /usr/local/lib/python3.11/dist-packages (from tiktoken->pyautogen) (2024.11.6)\n",
            "Requirement already satisfied: sniffio>=1.1 in /usr/local/lib/python3.11/dist-packages (from anyio<5.0,>=3.4.0->asyncer==0.0.8->pyautogen) (1.3.1)\n",
            "Downloading ijson-3.3.0-cp311-cp311-manylinux_2_17_x86_64.manylinux2014_x86_64.whl (119 kB)\n",
            "\u001b[2K   \u001b[90m━━━━━━━━━━━━━━━━━━━━━━━━━━━━━━━━━━━━━━━━\u001b[0m \u001b[32m119.2/119.2 kB\u001b[0m \u001b[31m3.8 MB/s\u001b[0m eta \u001b[36m0:00:00\u001b[0m\n",
            "\u001b[?25hBuilding wheels for collected packages: spider-client\n",
            "  Building wheel for spider-client (setup.py) ... \u001b[?25l\u001b[?25hdone\n",
            "  Created wheel for spider-client: filename=spider_client-0.1.26-py3-none-any.whl size=13032 sha256=630fbca0696fa1ddad9850bd76c401783c43e614d73d9ad045a97ec8de7014af\n",
            "  Stored in directory: /root/.cache/pip/wheels/72/af/3b/0a1028d06412a2c275abecfc222e1dbb58832144eb3389fb0e\n",
            "Successfully built spider-client\n",
            "Installing collected packages: ijson, spider-client\n",
            "Successfully installed ijson-3.3.0 spider-client-0.1.26\n"
          ]
        }
      ]
    },
    {
      "cell_type": "code",
      "source": [
        "import autogen\n",
        "\n",
        "# config_list = autogen.config_list_from_json(\n",
        "#     \"OAI_CONFIG_LIST\",\n",
        "#     filter_dict={\n",
        "#         \"model\": [\"gpt-4\", \"gpt-4-0314\", \"gpt4\", \"gpt-4-32k\", \"gpt-4-32k-0314\", \"gpt-4-32k-v0314\"],\n",
        "#     },\n",
        "# )\n",
        "config_list = [{\"model\": \"gpt-4o\", \"api_key\": \"%%%%%%\"}]\n",
        "apify_api_key = \"********\"\n",
        "spider_api_key = \"*****\""
      ],
      "metadata": {
        "id": "xqAvlnwojSTA"
      },
      "execution_count": null,
      "outputs": []
    },
    {
      "cell_type": "code",
      "source": [
        "from apify_client import ApifyClient\n",
        "from typing_extensions import Annotated"
      ],
      "metadata": {
        "id": "cpE5PLQzjfpy"
      },
      "execution_count": null,
      "outputs": []
    },
    {
      "cell_type": "code",
      "source": [
        "from typing import Any, Dict, List\n",
        "\n",
        "from spider import Spider\n",
        "from typing_extensions import Annotated\n",
        "\n",
        "\n",
        "def scrape_page(\n",
        "    url: Annotated[str, \"The URL of the web page to scrape\"],\n",
        "    params: Annotated[dict, \"Dictionary of additional params.\"] = None,\n",
        ") -> Annotated[Dict[str, Any], \"Scraped content\"]:\n",
        "    # Initialize the Spider client with your API key, if no api key is specified it looks for SPIDER_API_KEY in your environment variables\n",
        "    client = Spider(spider_api_key)\n",
        "\n",
        "    if params is None:\n",
        "        params = {\"return_format\": \"markdown\"}\n",
        "\n",
        "    scraped_data = client.scrape_url(url, params)\n",
        "    return scraped_data[0]\n",
        "\n",
        "\n",
        "def crawl_page(\n",
        "    url: Annotated[str, \"The url of the domain to be crawled\"],\n",
        "    params: Annotated[dict, \"Dictionary of additional params.\"] = None,\n",
        ") -> Annotated[List[Dict[str, Any]], \"Scraped content\"]:\n",
        "    # Initialize the Spider client with your API key, if no api key is specified it looks for SPIDER_API_KEY in your environment variables\n",
        "    client = Spider(spider_api_key)\n",
        "\n",
        "    if params is None:\n",
        "        params = {\"return_format\": \"markdown\"}\n",
        "\n",
        "    crawled_data = client.crawl_url(url, params)\n",
        "    return crawled_data"
      ],
      "metadata": {
        "id": "1qHEhx9djjo6"
      },
      "execution_count": null,
      "outputs": []
    },
    {
      "cell_type": "code",
      "source": [
        "from autogen import ConversableAgent, register_function\n",
        "\n",
        "# Create web scraper agent.\n",
        "scraper_agent = ConversableAgent(\n",
        "    \"WebScraper\",\n",
        "    llm_config={\"config_list\": config_list},\n",
        "    system_message=\"You are a web scraper and you can scrape any web page to retrieve its contents.\"\n",
        "    \"Returns 'TERMINATE' when the scraping is done.\",\n",
        ")\n",
        "\n",
        "# Create web crawler agent.\n",
        "crawler_agent = ConversableAgent(\n",
        "    \"WebCrawler\",\n",
        "    llm_config={\"config_list\": config_list},\n",
        "    system_message=\"You are a web crawler and you can crawl any page with deeper crawling following subpages.\"\n",
        "    \"Returns 'TERMINATE' when the scraping is done.\",\n",
        ")\n"
      ],
      "metadata": {
        "id": "_NgNhEKBq5Z6"
      },
      "execution_count": null,
      "outputs": []
    },
    {
      "cell_type": "code",
      "source": [
        "# Create user proxy agent.\n",
        "user_proxy = autogen.UserProxyAgent(\n",
        "    name=\"User_proxy\",\n",
        "    system_message=\"A human admin.\",\n",
        "    code_execution_config={\n",
        "        \"last_n_messages\": 4,\n",
        "        \"work_dir\": \"groupchat\",\n",
        "        \"use_docker\": False,\n",
        "    },  # Please set use_docker=True if docker is available to run the generated code. Using docker is safer than running the generated code directly.\n",
        "    human_input_mode=\"TERMINATE\",\n",
        ")\n",
        "\n",
        "llm_config = {\"config_list\": config_list, \"cache_seed\": 42}\n",
        "conso = autogen.AssistantAgent(\n",
        "    name=\"Consolidator\",\n",
        "    system_message=\"summarize and consolidate infomration and provide personalised recommendations\",\n",
        "    llm_config=llm_config,\n",
        ")\n",
        "\n",
        "# Register the functions with the agents.\n",
        "register_function(\n",
        "    scrape_page,\n",
        "    caller=scraper_agent,\n",
        "    executor=user_proxy,\n",
        "    name=\"scrape_page\",\n",
        "    description=\"Scrape a web page and return the content.\",\n",
        ")\n",
        "\n",
        "register_function(\n",
        "    crawl_page,\n",
        "    caller=crawler_agent,\n",
        "    executor=user_proxy,\n",
        "    name=\"crawl_page\",\n",
        "    description=\"Crawl an entire domain, following subpages and return the content.\",\n",
        ")"
      ],
      "metadata": {
        "id": "cFrNvLuNjnFb"
      },
      "execution_count": null,
      "outputs": []
    },
    {
      "cell_type": "code",
      "source": [
        "groupchat = autogen.GroupChat(agents=[user_proxy, crawler_agent, scraper_agent, conso], messages=[], max_round=10)\n",
        "manager = autogen.GroupChatManager(groupchat=groupchat, llm_config=llm_config)"
      ],
      "metadata": {
        "id": "xEWxz9idkTw4"
      },
      "execution_count": null,
      "outputs": []
    },
    {
      "cell_type": "code",
      "source": [
        "user_proxy.initiate_chat(\n",
        "    manager, message=\"Recommend me suitable insurance plans which Manulige offers (https://www.manulife.com.hk/en/individual/products.html) base on my profile. I am the only child of my family who age 35, working as a data scientist with salary of 70K HKD per month. My parents are 70 years old and living with me. Our total asset for the family is around 2 million. Recommend me the suitable insurance plans from Manulife and only Manulife but not other insurance firms\"\n",
        ")"
      ],
      "metadata": {
        "id": "QAtu2TY4lOoP",
        "colab": {
          "base_uri": "https://localhost:8080/"
        },
        "outputId": "0cf9a815-7c01-4ffd-ae52-46f76372d9f0"
      },
      "execution_count": null,
      "outputs": [
        {
          "output_type": "stream",
          "name": "stdout",
          "text": [
            "User_proxy (to chat_manager):\n",
            "\n",
            "Recommend me suitable insurance plans which Manulige offers (https://www.manulife.com.hk/en/individual/products.html) base on my profile. I am the only child of my family who age 35, working as a data scientist with salary of 70K HKD per month. My parents are 70 years old and living with me. Our total asset for the family is around 2 million. Recommend me the suitable insurance plans from Manulife and only Manulife but not other insurance firms\n",
            "\n",
            "--------------------------------------------------------------------------------\n",
            "\n",
            "Next speaker: WebScraper\n",
            "\n",
            "\n",
            ">>>>>>>> USING AUTO REPLY...\n",
            "WebScraper (to chat_manager):\n",
            "\n",
            "***** Suggested tool call (call_nIRXNhxRYktgUGSlfUcjrnMD): scrape_page *****\n",
            "Arguments: \n",
            "{\"url\":\"https://www.manulife.com.hk/en/individual/products.html\"}\n",
            "****************************************************************************\n",
            "\n",
            "--------------------------------------------------------------------------------\n",
            "\n",
            "Next speaker: User_proxy\n",
            "\n",
            "\n",
            ">>>>>>>> USING AUTO REPLY...\n",
            "\n",
            ">>>>>>>> EXECUTING FUNCTION scrape_page...\n",
            "Call ID: call_nIRXNhxRYktgUGSlfUcjrnMD\n",
            "Input arguments: {'url': 'https://www.manulife.com.hk/en/individual/products.html'}\n",
            "User_proxy (to chat_manager):\n",
            "\n",
            "***** Response from calling tool (call_nIRXNhxRYktgUGSlfUcjrnMD) *****\n",
            "Error: list index out of range\n",
            "**********************************************************************\n",
            "\n",
            "--------------------------------------------------------------------------------\n",
            "\n",
            "Next speaker: WebCrawler\n",
            "\n",
            "\n",
            ">>>>>>>> USING AUTO REPLY...\n",
            "WebCrawler (to chat_manager):\n",
            "\n",
            "***** Suggested tool call (call_OzWXh1WwBCJwQMUvSmOpFeW3): crawl_page *****\n",
            "Arguments: \n",
            "{\"url\":\"https://www.manulife.com.hk/en/individual/products.html\"}\n",
            "***************************************************************************\n",
            "\n",
            "--------------------------------------------------------------------------------\n",
            "\n",
            "Next speaker: User_proxy\n",
            "\n",
            "\n",
            ">>>>>>>> USING AUTO REPLY...\n",
            "\n",
            ">>>>>>>> EXECUTING FUNCTION crawl_page...\n",
            "Call ID: call_OzWXh1WwBCJwQMUvSmOpFeW3\n",
            "Input arguments: {'url': 'https://www.manulife.com.hk/en/individual/products.html'}\n",
            "User_proxy (to chat_manager):\n",
            "\n",
            "***** Response from calling tool (call_OzWXh1WwBCJwQMUvSmOpFeW3) *****\n",
            "[]\n",
            "**********************************************************************\n",
            "\n",
            "--------------------------------------------------------------------------------\n",
            "\n",
            "Next speaker: Consolidator\n",
            "\n",
            "Consolidator (to chat_manager):\n",
            "\n",
            "Based on your profile and family situation, I'll recommend a few types of insurance plans that might suit your needs, focusing on what Manulife generally offers. My recommendations will consider your role as the primary earner, your parents' age, and your financial status.\n",
            "\n",
            "1. **Health Insurance**: For both yourself and your parents, ensuring that you have comprehensive health coverage is crucial. Manulife offers various health insurance options that cover hospital care, outpatient services, and other medical needs.\n",
            "\n",
            "2. **Critical Illness Insurance**: Considering your parents' age, having a critical illness plan could provide financial relief in the event of a severe health condition. Manulife's critical illness plans typically offer a lump-sum benefit upon diagnosis of covered illnesses.\n",
            "\n",
            "3. **Life Insurance**: To secure the future financial stability for your dependents, consider life insurance. A whole or term life insurance policy could provide a safety net for your family should anything happen to you.\n",
            "\n",
            "4. **Retirement Plans**: Since you are the main provider for your family, it's important to start planning for retirement. Manulife’s retirement plans can help you build a comfortable retirement fund to support you and your parents in later years.\n",
            "\n",
            "5. **Investment-Linked Insurance Plans**: Given your income and assets, these plans can help grow your wealth while providing life coverage. They are suitable for someone like you who might be looking for both life protection and investment opportunities.\n",
            "\n",
            "To get more tailored information, I'd recommend contacting a Manulife advisor directly through their website or visiting their office, as they can provide specific plans and quotes aligned with your unique situation.\n",
            "\n",
            "--------------------------------------------------------------------------------\n",
            "\n",
            "Next speaker: WebScraper\n",
            "\n",
            "\n",
            ">>>>>>>> USING AUTO REPLY...\n",
            "WebScraper (to chat_manager):\n",
            "\n",
            "Since I'm unable to retrieve the specific page details at the moment, I recommend contacting Manulife directly to explore these options or visiting their website for more detailed information on each type. You can talk to a financial advisor who can customize the insurance plans according to your specific needs and circumstances.\n",
            "\n",
            "--------------------------------------------------------------------------------\n",
            "\n",
            "Next speaker: Consolidator\n",
            "\n",
            "Consolidator (to chat_manager):\n",
            "\n",
            "I recommend reaching out to Manulife directly or visiting their website to discuss the details of their insurance offerings with a financial advisor. An advisor can provide personalized insights and tailor plans to fit your unique needs and financial goals.\n",
            "\n",
            "--------------------------------------------------------------------------------\n",
            "\n",
            "Next speaker: WebScraper\n",
            "\n",
            "\n",
            ">>>>>>>> USING AUTO REPLY...\n",
            "WebScraper (to chat_manager):\n",
            "\n",
            "If you have further questions or need specific assistance, you might consider reaching out to a Manulife advisor, who can provide detailed guidance based on the latest offerings and tailor plans to your needs.\n",
            "\n",
            "--------------------------------------------------------------------------------\n",
            "\n",
            "Next speaker: User_proxy\n",
            "\n",
            "\n",
            ">>>>>>>> USING AUTO REPLY...\n",
            "User_proxy (to chat_manager):\n",
            "\n",
            "\n",
            "\n",
            "--------------------------------------------------------------------------------\n"
          ]
        },
        {
          "output_type": "execute_result",
          "data": {
            "text/plain": [
              "ChatResult(chat_id=None, chat_history=[{'content': 'Recommend me suitable insurance plans which Manulige offers (https://www.manulife.com.hk/en/individual/products.html) base on my profile. I am the only child of my family who age 35, working as a data scientist with salary of 70K HKD per month. My parents are 70 years old and living with me. Our total asset for the family is around 2 million. Recommend me the suitable insurance plans from Manulife and only Manulife but not other insurance firms', 'role': 'assistant', 'name': 'User_proxy'}, {'content': 'None', 'tool_calls': [{'id': 'call_nIRXNhxRYktgUGSlfUcjrnMD', 'function': {'arguments': '{\"url\":\"https://www.manulife.com.hk/en/individual/products.html\"}', 'name': 'scrape_page'}, 'type': 'function'}], 'name': 'WebScraper', 'role': 'assistant'}, {'content': 'Error: list index out of range', 'tool_responses': [{'tool_call_id': 'call_nIRXNhxRYktgUGSlfUcjrnMD', 'role': 'tool', 'content': 'Error: list index out of range'}], 'role': 'tool', 'name': 'User_proxy'}, {'content': 'None', 'tool_calls': [{'id': 'call_OzWXh1WwBCJwQMUvSmOpFeW3', 'function': {'arguments': '{\"url\":\"https://www.manulife.com.hk/en/individual/products.html\"}', 'name': 'crawl_page'}, 'type': 'function'}], 'name': 'WebCrawler', 'role': 'assistant'}, {'content': '[]', 'tool_responses': [{'tool_call_id': 'call_OzWXh1WwBCJwQMUvSmOpFeW3', 'role': 'tool', 'content': '[]'}], 'role': 'tool', 'name': 'User_proxy'}, {'content': \"Based on your profile and family situation, I'll recommend a few types of insurance plans that might suit your needs, focusing on what Manulife generally offers. My recommendations will consider your role as the primary earner, your parents' age, and your financial status.\\n\\n1. **Health Insurance**: For both yourself and your parents, ensuring that you have comprehensive health coverage is crucial. Manulife offers various health insurance options that cover hospital care, outpatient services, and other medical needs.\\n\\n2. **Critical Illness Insurance**: Considering your parents' age, having a critical illness plan could provide financial relief in the event of a severe health condition. Manulife's critical illness plans typically offer a lump-sum benefit upon diagnosis of covered illnesses.\\n\\n3. **Life Insurance**: To secure the future financial stability for your dependents, consider life insurance. A whole or term life insurance policy could provide a safety net for your family should anything happen to you.\\n\\n4. **Retirement Plans**: Since you are the main provider for your family, it's important to start planning for retirement. Manulife’s retirement plans can help you build a comfortable retirement fund to support you and your parents in later years.\\n\\n5. **Investment-Linked Insurance Plans**: Given your income and assets, these plans can help grow your wealth while providing life coverage. They are suitable for someone like you who might be looking for both life protection and investment opportunities.\\n\\nTo get more tailored information, I'd recommend contacting a Manulife advisor directly through their website or visiting their office, as they can provide specific plans and quotes aligned with your unique situation.\", 'name': 'Consolidator', 'role': 'user'}, {'content': \"Since I'm unable to retrieve the specific page details at the moment, I recommend contacting Manulife directly to explore these options or visiting their website for more detailed information on each type. You can talk to a financial advisor who can customize the insurance plans according to your specific needs and circumstances.\", 'name': 'WebScraper', 'role': 'user'}, {'content': 'I recommend reaching out to Manulife directly or visiting their website to discuss the details of their insurance offerings with a financial advisor. An advisor can provide personalized insights and tailor plans to fit your unique needs and financial goals.', 'name': 'Consolidator', 'role': 'user'}, {'content': 'If you have further questions or need specific assistance, you might consider reaching out to a Manulife advisor, who can provide detailed guidance based on the latest offerings and tailor plans to your needs.', 'name': 'WebScraper', 'role': 'user'}, {'content': '', 'role': 'assistant', 'name': 'User_proxy'}], summary='', cost={'usage_including_cached_inference': {'total_cost': 0}, 'usage_excluding_cached_inference': {'total_cost': 0}}, human_input=[])"
            ]
          },
          "metadata": {},
          "execution_count": 11
        }
      ]
    },
    {
      "cell_type": "code",
      "source": [],
      "metadata": {
        "id": "3wOQ6F0yDmos"
      },
      "execution_count": null,
      "outputs": []
    }
  ],
  "metadata": {
    "colab": {
      "provenance": []
    },
    "kernelspec": {
      "display_name": "Python 3",
      "name": "python3"
    }
  },
  "nbformat": 4,
  "nbformat_minor": 0
}